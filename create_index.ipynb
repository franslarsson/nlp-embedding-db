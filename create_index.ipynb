{
 "cells": [
  {
   "cell_type": "markdown",
   "metadata": {},
   "source": [
    "# Create index\n",
    "\n",
    "This notebook go through some examples on how to create index on different databases. "
   ]
  },
  {
   "cell_type": "code",
   "execution_count": 1,
   "metadata": {},
   "outputs": [],
   "source": [
    "import yaml"
   ]
  },
  {
   "cell_type": "code",
   "execution_count": 2,
   "metadata": {},
   "outputs": [],
   "source": [
    "with open('./db.yaml') as f:\n",
    "    conf = yaml.safe_load(f)"
   ]
  },
  {
   "cell_type": "markdown",
   "metadata": {},
   "source": [
    "## SQLite"
   ]
  },
  {
   "cell_type": "code",
   "execution_count": 3,
   "metadata": {},
   "outputs": [],
   "source": [
    "from database import WordEmbeddingSQLiteDB"
   ]
  },
  {
   "cell_type": "code",
   "execution_count": 4,
   "metadata": {},
   "outputs": [],
   "source": [
    "DB_PATH = conf['sqlite']['path']\n",
    "DB_NAME = conf['name']\n",
    "TABLE_NAME = conf['data']['google_news_vec']['name']"
   ]
  },
  {
   "cell_type": "code",
   "execution_count": 5,
   "metadata": {},
   "outputs": [],
   "source": [
    "sql = f\"CREATE INDEX word_index ON {TABLE_NAME} (word)\"\n",
    "with WordEmbeddingSQLiteDB(f'{DB_PATH}/{DB_NAME}.db') as db:\n",
    "    cursor = db.conn.cursor()\n",
    "    try:\n",
    "        cursor.execute(sql)\n",
    "    except Exception as e:\n",
    "        print(e)\n",
    "    finally:\n",
    "        cursor.close()"
   ]
  },
  {
   "cell_type": "markdown",
   "metadata": {},
   "source": [
    "## MongoDB"
   ]
  },
  {
   "cell_type": "code",
   "execution_count": 6,
   "metadata": {},
   "outputs": [],
   "source": [
    "import pymongo\n",
    "\n",
    "from database import WordEmbeddingMongoDB"
   ]
  },
  {
   "cell_type": "code",
   "execution_count": 7,
   "metadata": {},
   "outputs": [],
   "source": [
    "HOST = conf['mongodb']['host']\n",
    "PORT = conf['mongodb']['port']\n",
    "DB_NAME = conf['name']\n",
    "COLLECTION_NAME = conf['data']['google_news_vec']['name']"
   ]
  },
  {
   "cell_type": "code",
   "execution_count": 8,
   "metadata": {},
   "outputs": [],
   "source": [
    "with WordEmbeddingMongoDB(db=DB_NAME, host=HOST, port=PORT) as db:\n",
    "    collection = db.client[db.db][COLLECTION_NAME]\n",
    "    _ = collection.create_index([('word', pymongo.ASCENDING)], unique=True)"
   ]
  },
  {
   "cell_type": "code",
   "execution_count": null,
   "metadata": {},
   "outputs": [],
   "source": []
  }
 ],
 "metadata": {
  "kernelspec": {
   "display_name": "embbeding-db-env",
   "language": "python",
   "name": "env"
  },
  "language_info": {
   "codemirror_mode": {
    "name": "ipython",
    "version": 3
   },
   "file_extension": ".py",
   "mimetype": "text/x-python",
   "name": "python",
   "nbconvert_exporter": "python",
   "pygments_lexer": "ipython3",
   "version": "3.7.6"
  }
 },
 "nbformat": 4,
 "nbformat_minor": 4
}
